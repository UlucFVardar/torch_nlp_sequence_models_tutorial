{
 "cells": [
  {
   "cell_type": "code",
   "execution_count": 1,
   "metadata": {},
   "outputs": [],
   "source": [
    "%matplotlib inline"
   ]
  },
  {
   "cell_type": "markdown",
   "metadata": {},
   "source": [
    "\n",
    "Sequence Models and Long-Short Term Memory Networks\n",
    "===================================================\n",
    "\n",
    "At this point, we have seen various feed-forward networks. That is,\n",
    "there is no state maintained by the network at all. This might not be\n",
    "the behavior we want. Sequence models are central to NLP: they are\n",
    "models where there is some sort of dependence through time between your\n",
    "inputs. The classical example of a sequence model is the Hidden Markov\n",
    "Model for part-of-speech tagging. Another example is the conditional\n",
    "random field.\n",
    "\n",
    "A recurrent neural network is a network that maintains some kind of\n",
    "state. For example, its output could be used as part of the next input,\n",
    "so that information can propogate along as the network passes over the\n",
    "sequence. In the case of an LSTM, for each element in the sequence,\n",
    "there is a corresponding *hidden state* $h_t$, which in principle\n",
    "can contain information from arbitrary points earlier in the sequence.\n",
    "We can use the hidden state to predict words in a language model,\n",
    "part-of-speech tags, and a myriad of other things.\n",
    "\n",
    "\n",
    "**LSTM's in Pytorch**\n",
    "\n",
    "\n",
    "Before getting to the example, note a few things. Pytorch's LSTM expects\n",
    "all of its inputs to be 3D tensors. The semantics of the axes of these\n",
    "tensors is important. The first axis is the sequence itself, the second\n",
    "indexes instances in the mini-batch, and the third indexes elements of\n",
    "the input. We haven't discussed mini-batching, so lets just ignore that\n",
    "and assume we will always have just 1 dimension on the second axis. If\n",
    "we want to run the sequence model over the sentence \"The cow jumped\",\n",
    "our input should look like\n",
    "\n",
    "\\begin{align}\\begin{bmatrix}\n",
    "   \\overbrace{q_\\text{The}}^\\text{row vector} \\\\\n",
    "   q_\\text{cow} \\\\\n",
    "   q_\\text{jumped}\n",
    "   \\end{bmatrix}\\end{align}\n",
    "\n",
    "Except remember there is an additional 2nd dimension with size 1.\n",
    "\n",
    "In addition, you could go through the sequence one at a time, in which\n",
    "case the 1st axis will have size 1 also.\n",
    "\n",
    "Let's see a quick example.\n",
    "\n"
   ]
  },
  {
   "cell_type": "code",
   "execution_count": 2,
   "metadata": {},
   "outputs": [
    {
     "data": {
      "text/plain": [
       "<torch._C.Generator at 0x7f74a7af8a30>"
      ]
     },
     "execution_count": 2,
     "metadata": {},
     "output_type": "execute_result"
    }
   ],
   "source": [
    "# Author: Robert Guthrie\n",
    "\n",
    "import torch\n",
    "import torch.nn as nn\n",
    "import torch.nn.functional as F\n",
    "import torch.optim as optim\n",
    "from torch.autograd import Variable\n",
    "from torch.nn.utils.rnn import pack_padded_sequence\n",
    "import datetime\n",
    "\n",
    "torch.manual_seed(1)"
   ]
  },
  {
   "cell_type": "code",
   "execution_count": 6,
   "metadata": {},
   "outputs": [
    {
     "data": {
      "text/plain": [
       "[tensor([[ 0.5119, -0.6368,  1.0429]]),\n",
       " tensor([[ 0.4903,  1.0318, -0.5989]]),\n",
       " tensor([[ 1.6015, -1.0735, -1.2173]]),\n",
       " tensor([[ 0.6472, -0.0412, -0.1775]]),\n",
       " tensor([[-0.5000,  0.8673, -0.2732]])]"
      ]
     },
     "execution_count": 6,
     "metadata": {},
     "output_type": "execute_result"
    }
   ],
   "source": [
    "lstm = nn.LSTM(3, 3)  # Input dim is 3, output dim is 3\n",
    "inputs = [torch.randn(1, 3) for _ in range(5)]  # make a sequence of length 5\n",
    "inputs"
   ]
  },
  {
   "cell_type": "code",
   "execution_count": 7,
   "metadata": {},
   "outputs": [
    {
     "data": {
      "text/plain": [
       "tensor([[[ 0.5119, -0.6368,  1.0429]],\n",
       "\n",
       "        [[ 0.4903,  1.0318, -0.5989]],\n",
       "\n",
       "        [[ 1.6015, -1.0735, -1.2173]],\n",
       "\n",
       "        [[ 0.6472, -0.0412, -0.1775]],\n",
       "\n",
       "        [[-0.5000,  0.8673, -0.2732]]])"
      ]
     },
     "execution_count": 7,
     "metadata": {},
     "output_type": "execute_result"
    }
   ],
   "source": [
    "torch.cat(inputs).view(len(inputs), 1, -1)"
   ]
  },
  {
   "cell_type": "code",
   "execution_count": 4,
   "metadata": {},
   "outputs": [
    {
     "data": {
      "text/plain": [
       "(tensor([[[ 0.5438, -0.4057,  1.1341]]]),\n",
       " tensor([[[-1.1115,  0.3501, -0.7703]]]))"
      ]
     },
     "execution_count": 4,
     "metadata": {},
     "output_type": "execute_result"
    }
   ],
   "source": [
    "# initialize the hidden state.\n",
    "hidden = (torch.randn(1, 1, 3),\n",
    "          torch.randn(1, 1, 3))\n",
    "hidden"
   ]
  },
  {
   "cell_type": "code",
   "execution_count": 5,
   "metadata": {},
   "outputs": [
    {
     "name": "stdout",
     "output_type": "stream",
     "text": [
      "tensor([[[-0.0187,  0.1713, -0.2944]],\n",
      "\n",
      "        [[-0.3521,  0.1026, -0.2971]],\n",
      "\n",
      "        [[-0.3191,  0.0781, -0.1957]],\n",
      "\n",
      "        [[-0.1634,  0.0941, -0.1637]],\n",
      "\n",
      "        [[-0.3368,  0.0959, -0.0538]]], grad_fn=<StackBackward>)\n",
      "(tensor([[[-0.3368,  0.0959, -0.0538]]], grad_fn=<StackBackward>), tensor([[[-0.9825,  0.4715, -0.0633]]], grad_fn=<StackBackward>))\n"
     ]
    }
   ],
   "source": [
    "for i in inputs:\n",
    "    # Step through the sequence one element at a time.\n",
    "    # after each step, hidden contains the hidden state.\n",
    "    out, hidden = lstm(i.view(1, 1, -1), hidden)\n",
    "\n",
    "# alternatively, we can do the entire sequence all at once.\n",
    "# the first value returned by LSTM is all of the hidden states throughout\n",
    "# the sequence. the second is just the most recent hidden state\n",
    "# (compare the last slice of \"out\" with \"hidden\" below, they are the same)\n",
    "# The reason for this is that:\n",
    "# \"out\" will give you access to all hidden states in the sequence\n",
    "# \"hidden\" will allow you to continue the sequence and backpropagate,\n",
    "# by passing it as an argument  to the lstm at a later time\n",
    "# Add the extra 2nd dimension\n",
    "inputs = torch.cat(inputs).view(len(inputs), 1, -1)\n",
    "hidden = (torch.randn(1, 1, 3), torch.randn(1, 1, 3))  # clean out hidden state\n",
    "out, hidden = lstm(inputs, hidden)\n",
    "print(out)\n",
    "print(hidden)"
   ]
  },
  {
   "cell_type": "markdown",
   "metadata": {},
   "source": [
    "**Example: An LSTM for Part-of-Speech Tagging**\n",
    "\n",
    "In this section, we will use an LSTM to get part of speech tags. We will\n",
    "not use Viterbi or Forward-Backward or anything like that, but as a\n",
    "(challenging) exercise to the reader, think about how Viterbi could be\n",
    "used after you have seen what is going on.\n",
    "\n",
    "The model is as follows: let our input sentence be\n",
    "$w_1, \\dots, w_M$, where $w_i \\in V$, our vocab. Also, let\n",
    "$T$ be our tag set, and $y_i$ the tag of word $w_i$.\n",
    "Denote our prediction of the tag of word $w_i$ by\n",
    "$\\hat{y}_i$.\n",
    "\n",
    "This is a structure prediction, model, where our output is a sequence\n",
    "$\\hat{y}_1, \\dots, \\hat{y}_M$, where $\\hat{y}_i \\in T$.\n",
    "\n",
    "To do the prediction, pass an LSTM over the sentence. Denote the hidden\n",
    "state at timestep $i$ as $h_i$. Also, assign each tag a\n",
    "unique index (like how we had word\\_to\\_ix in the word embeddings\n",
    "section). Then our prediction rule for $\\hat{y}_i$ is\n",
    "\n",
    "\\begin{align}\\hat{y}_i = \\text{argmax}_j \\  (\\log \\text{Softmax}(Ah_i + b))_j\\end{align}\n",
    "\n",
    "That is, take the log softmax of the affine map of the hidden state,\n",
    "and the predicted tag is the tag that has the maximum value in this\n",
    "vector. Note this implies immediately that the dimensionality of the\n",
    "target space of $A$ is $|T|$.\n",
    "\n",
    "\n",
    "Prepare data:\n",
    "\n"
   ]
  },
  {
   "cell_type": "code",
   "execution_count": 11,
   "metadata": {},
   "outputs": [
    {
     "name": "stdout",
     "output_type": "stream",
     "text": [
      "{'The': 0, 'dog': 1, 'ate': 2, 'the': 3, 'apple': 4, 'Everybody': 5, 'read': 6, 'that': 7, 'book': 8}\n"
     ]
    }
   ],
   "source": [
    "def prepare_sequence(seq, to_ix):\n",
    "    idxs = [to_ix[w] for w in seq]\n",
    "    return torch.tensor(idxs, dtype=torch.long)\n",
    "\n",
    "\n",
    "training_data = [\n",
    "    (\"The dog ate the apple\".split(), [\"DET\", \"NN\", \"V\", \"DET\", \"NN\"]),\n",
    "    (\"Everybody read that book\".split(), [\"NN\", \"V\", \"DET\", \"NN\"])\n",
    "]\n",
    "word_to_ix = {}\n",
    "for sent, tags in training_data:\n",
    "    for word in sent:\n",
    "        if word not in word_to_ix:\n",
    "            word_to_ix[word] = len(word_to_ix)\n",
    "print(word_to_ix)\n",
    "tag_to_ix = {\"DET\": 0, \"NN\": 1, \"V\": 2}\n",
    "\n",
    "# These will usually be more like 32 or 64 dimensional.\n",
    "# We will keep them small, so we can see how the weights change as we train.\n",
    "EMBEDDING_DIM = 6\n",
    "HIDDEN_DIM = 6"
   ]
  },
  {
   "cell_type": "code",
   "execution_count": 12,
   "metadata": {},
   "outputs": [
    {
     "data": {
      "text/plain": [
       "[(['The', 'dog', 'ate', 'the', 'apple'], ['DET', 'NN', 'V', 'DET', 'NN']),\n",
       " (['Everybody', 'read', 'that', 'book'], ['NN', 'V', 'DET', 'NN'])]"
      ]
     },
     "execution_count": 12,
     "metadata": {},
     "output_type": "execute_result"
    }
   ],
   "source": [
    "training_data"
   ]
  },
  {
   "cell_type": "markdown",
   "metadata": {},
   "source": [
    "Create the model:\n",
    "\n"
   ]
  },
  {
   "cell_type": "code",
   "execution_count": 13,
   "metadata": {},
   "outputs": [],
   "source": [
    "class LSTMTagger(nn.Module):\n",
    "\n",
    "    def __init__(self, embedding_dim, hidden_dim, vocab_size, tagset_size):\n",
    "        super(LSTMTagger, self).__init__()\n",
    "        self.hidden_dim = hidden_dim\n",
    "\n",
    "        self.word_embeddings = nn.Embedding(vocab_size, embedding_dim)\n",
    "\n",
    "        # The LSTM takes word embeddings as inputs, and outputs hidden states\n",
    "        # with dimensionality hidden_dim.\n",
    "        self.lstm = nn.LSTM(embedding_dim, hidden_dim)\n",
    "\n",
    "        # The linear layer that maps from hidden state space to tag space\n",
    "        self.hidden2tag = nn.Linear(hidden_dim, tagset_size)\n",
    "\n",
    "    def forward(self, sentence):\n",
    "        embeds = self.word_embeddings(sentence)\n",
    "        lstm_out, _ = self.lstm(embeds.view(len(sentence), 1, -1))\n",
    "        tag_space = self.hidden2tag(lstm_out.view(len(sentence), -1))\n",
    "        tag_scores = F.log_softmax(tag_space, dim=1)\n",
    "        return tag_scores"
   ]
  },
  {
   "cell_type": "markdown",
   "metadata": {},
   "source": [
    "Train the model:\n",
    "\n"
   ]
  },
  {
   "cell_type": "code",
   "execution_count": 14,
   "metadata": {},
   "outputs": [
    {
     "name": "stdout",
     "output_type": "stream",
     "text": [
      "tensor([[-1.1737, -1.1350, -0.9960],\n",
      "        [-1.1711, -1.2007, -0.9442],\n",
      "        [-1.2051, -1.1736, -0.9389],\n",
      "        [-1.1577, -1.1514, -0.9954],\n",
      "        [-1.1466, -1.1302, -1.0236]])\n",
      "tensor([[-0.0930, -2.8627, -3.4529],\n",
      "        [-2.7217, -0.1597, -2.5029],\n",
      "        [-2.6742, -3.9109, -0.0932],\n",
      "        [-0.1738, -3.2647, -2.1095],\n",
      "        [-4.5002, -0.0148, -5.6273]])\n"
     ]
    }
   ],
   "source": [
    "model = LSTMTagger(EMBEDDING_DIM, HIDDEN_DIM, len(word_to_ix), len(tag_to_ix))\n",
    "loss_function = nn.NLLLoss()\n",
    "optimizer = optim.SGD(model.parameters(), lr=0.1)\n",
    "\n",
    "# See what the scores are before training\n",
    "# Note that element i,j of the output is the score for tag j for word i.\n",
    "# Here we don't need to train, so the code is wrapped in torch.no_grad()\n",
    "with torch.no_grad():\n",
    "    inputs = prepare_sequence(training_data[0][0], word_to_ix)\n",
    "    tag_scores = model(inputs)\n",
    "    print(tag_scores)\n",
    "\n",
    "for epoch in range(300):  # again, normally you would NOT do 300 epochs, it is toy data\n",
    "    for sentence, tags in training_data:\n",
    "        # Step 1. Remember that Pytorch accumulates gradients.\n",
    "        # We need to clear them out before each instance\n",
    "        model.zero_grad()\n",
    "\n",
    "        # Step 2. Get our inputs ready for the network, that is, turn them into\n",
    "        # Tensors of word indices.\n",
    "        sentence_in = prepare_sequence(sentence, word_to_ix)\n",
    "        targets = prepare_sequence(tags, tag_to_ix)\n",
    "\n",
    "        # Step 3. Run our forward pass.\n",
    "        tag_scores = model(sentence_in)\n",
    "\n",
    "        # Step 4. Compute the loss, gradients, and update the parameters by\n",
    "        #  calling optimizer.step()\n",
    "        loss = loss_function(tag_scores, targets)\n",
    "        loss.backward()\n",
    "        optimizer.step()\n",
    "\n",
    "# See what the scores are after training\n",
    "with torch.no_grad():\n",
    "    inputs = prepare_sequence(training_data[0][0], word_to_ix)\n",
    "    tag_scores = model(inputs)\n",
    "\n",
    "    # The sentence is \"the dog ate the apple\".  i,j corresponds to score for tag j\n",
    "    # for word i. The predicted tag is the maximum scoring tag.\n",
    "    # Here, we can see the predicted sequence below is 0 1 2 0 1\n",
    "    # since 0 is index of the maximum value of row 1,\n",
    "    # 1 is the index of maximum value of row 2, etc.\n",
    "    # Which is DET NOUN VERB DET NOUN, the correct sequence!\n",
    "    print(tag_scores)"
   ]
  },
  {
   "cell_type": "markdown",
   "metadata": {},
   "source": [
    "**Exercise: Augmenting the LSTM part-of-speech tagger with character-level features**\n",
    "\n",
    "In the example above, each word had an embedding, which served as the\n",
    "inputs to our sequence model. Let's augment the word embeddings with a\n",
    "representation derived from the characters of the word. We expect that\n",
    "this should help significantly, since character-level information like\n",
    "affixes have a large bearing on part-of-speech. For example, words with\n",
    "the affix *-ly* are almost always tagged as adverbs in English.\n",
    "\n",
    "To do this, let $c_w$ be the character-level representation of\n",
    "word $w$. Let $x_w$ be the word embedding as before. Then\n",
    "the input to our sequence model is the concatenation of $x_w$ and\n",
    "$c_w$. So if $x_w$ has dimension 5, and $c_w$\n",
    "dimension 3, then our LSTM should accept an input of dimension 8.\n",
    "\n",
    "To get the character level representation, do an LSTM over the\n",
    "characters of a word, and let $c_w$ be the final hidden state of\n",
    "this LSTM. Hints:\n",
    "\n",
    "* There are going to be two LSTM's in your new model.\n",
    "  The original one that outputs POS tag scores, and the new one that\n",
    "  outputs a character-level representation of each word.\n",
    "* To do a sequence model over characters, you will have to embed characters.\n",
    "  The character embeddings will be the input to the character LSTM.\n",
    "\n",
    "\n"
   ]
  },
  {
   "cell_type": "code",
   "execution_count": 20,
   "metadata": {},
   "outputs": [
    {
     "data": {
      "text/plain": [
       "'0123456789abcdefghijklmnopqrstuvwxyzABCDEFGHIJKLMNOPQRSTUVWXYZ!\"#$%&\\'()*+,-./:;<=>?@[\\\\]^_`{|}~ \\t\\n\\r\\x0b\\x0cğüşıöçÜŞİÖÇ'"
      ]
     },
     "execution_count": 20,
     "metadata": {},
     "output_type": "execute_result"
    }
   ],
   "source": [
    "import string\n",
    "string.printable + 'ğüşıöçÜŞİÖÇ'"
   ]
  },
  {
   "cell_type": "code",
   "execution_count": 37,
   "metadata": {
    "scrolled": true
   },
   "outputs": [
    {
     "name": "stdout",
     "output_type": "stream",
     "text": [
      "68\n"
     ]
    }
   ],
   "source": [
    "char_to_ix = {char:enum for (enum,char) in enumerate(string.printable)}\n",
    "char_to_ix['<PAD>'] = len(char_to_ix)\n",
    "print(char_to_ix['\\''])\n",
    "\n",
    "CHAR_EMBEDDING_DIM = 3\n",
    "\n",
    "def prepare_char_sequence(seq):\n",
    "    seq = [prepare_sequence(w, char_to_ix) for w in seq]\n",
    "    max_len = max([len(w) for w in seq])\n",
    "    seq = [torch.cat((w, torch.tensor([char_to_ix['<PAD>']]*(max_len-len(w)),dtype=torch.long))) for w in seq]\n",
    "    return seq"
   ]
  },
  {
   "cell_type": "code",
   "execution_count": 23,
   "metadata": {},
   "outputs": [
    {
     "data": {
      "text/plain": [
       "['The', 'dog', 'ate', 'the', 'apple']"
      ]
     },
     "execution_count": 23,
     "metadata": {},
     "output_type": "execute_result"
    }
   ],
   "source": [
    "training_data[0][0]"
   ]
  },
  {
   "cell_type": "code",
   "execution_count": 22,
   "metadata": {},
   "outputs": [
    {
     "data": {
      "text/plain": [
       "[tensor([55, 17, 14]),\n",
       " tensor([13, 24, 16]),\n",
       " tensor([10, 29, 14]),\n",
       " tensor([29, 17, 14]),\n",
       " tensor([10, 25, 25, 21, 14])]"
      ]
     },
     "execution_count": 22,
     "metadata": {},
     "output_type": "execute_result"
    }
   ],
   "source": [
    "[prepare_sequence(w, char_to_ix) for w in training_data[0][0]]"
   ]
  },
  {
   "cell_type": "code",
   "execution_count": 29,
   "metadata": {},
   "outputs": [
    {
     "data": {
      "text/plain": [
       "tensor([55, 17, 14, -1, -1])"
      ]
     },
     "execution_count": 29,
     "metadata": {},
     "output_type": "execute_result"
    }
   ],
   "source": [
    "max_len=5\n",
    "w = 'dog'\n",
    "torch.cat((torch.tensor([55, 17, 14]), torch.tensor([-1]*(max_len-len(w)))))"
   ]
  },
  {
   "cell_type": "code",
   "execution_count": 99,
   "metadata": {},
   "outputs": [],
   "source": [
    "class CharEmbLSTMTagger(nn.Module):\n",
    "\n",
    "    def __init__(self, embedding_dim, char_embedding_dim, hidden_dim, charset_size, vocab_size, tagset_size, pad):\n",
    "        super(CharEmbLSTMTagger, self).__init__()\n",
    "        self.hidden_dim = hidden_dim\n",
    "\n",
    "        self.char_embeddings = nn.Embedding(charset_size, char_embedding_dim, padding_idx=pad)\n",
    "        self.word_embeddings = nn.Embedding(vocab_size, embedding_dim)\n",
    "\n",
    "        # The LSTM takes word embeddings as inputs, and outputs hidden states\n",
    "        # with dimensionality hidden_dim.\n",
    "        self.lstm_char = nn.LSTM(char_embedding_dim, char_embedding_dim)\n",
    "        self.lstm_word = nn.LSTM(embedding_dim + char_embedding_dim, hidden_dim)\n",
    "\n",
    "        # The linear layer that maps from hidden state space to tag space\n",
    "        self.hidden2tag = nn.Linear(hidden_dim, tagset_size)\n",
    "\n",
    "    def forward(self, char_sentence, sentence):\n",
    "        word_char_embeds = []\n",
    "        for i in range(len(char_sentence)):\n",
    "            char_embeds = self.char_embeddings(char_sentence[i])\n",
    "            char_lstm_out, (hidden, cell) = self.lstm_char(char_embeds.view(len(char_sentence[i]),1,-1))\n",
    "            word_embeds = self.word_embeddings(sentence[i])\n",
    "            word_char_embeds.append(torch.cat((word_embeds, hidden.view(-1)), dim=0))\n",
    "\n",
    "        word_char_embeds = torch.stack(word_char_embeds)\n",
    "        lstm_out, _ = self.lstm_word(word_char_embeds.view(len(sentence), 1, -1))\n",
    "\n",
    "        tag_space = self.hidden2tag(lstm_out.view(len(sentence), -1))\n",
    "        tag_scores = F.log_softmax(tag_space, dim=1)\n",
    "        return tag_scores"
   ]
  },
  {
   "cell_type": "code",
   "execution_count": 100,
   "metadata": {},
   "outputs": [
    {
     "name": "stdout",
     "output_type": "stream",
     "text": [
      "tensor([[-1.3538, -1.0000, -0.9838],\n",
      "        [-1.4256, -0.9397, -0.9973],\n",
      "        [-1.3298, -1.0734, -0.9323],\n",
      "        [-1.3747, -1.0070, -0.9629],\n",
      "        [-1.3811, -0.9648, -1.0006]])\n",
      "tensor([[-0.0651, -3.8197, -3.1920],\n",
      "        [-3.5934, -0.0310, -5.8072],\n",
      "        [-3.0541, -4.5455, -0.0595],\n",
      "        [-0.0404, -3.6910, -4.2219],\n",
      "        [-4.1262, -0.0185, -6.1418]])\n",
      "Total Time: 0:00:08.738854\n"
     ]
    }
   ],
   "source": [
    "t0 = datetime.datetime.now()\n",
    "model = CharEmbLSTMTagger(EMBEDDING_DIM, CHAR_EMBEDDING_DIM, HIDDEN_DIM, len(char_to_ix), len(word_to_ix), len(tag_to_ix), \n",
    "                          char_to_ix['<PAD>'])\n",
    "loss_function = nn.NLLLoss()\n",
    "optimizer = optim.SGD(model.parameters(), lr=0.1)\n",
    "\n",
    "# See what the scores are before training\n",
    "# Note that element i,j of the output is the score for tag j for word i.\n",
    "# Here we don't need to train, so the code is wrapped in torch.no_grad()\n",
    "with torch.no_grad():\n",
    "    char_inputs = prepare_char_sequence(training_data[0][0])\n",
    "    inputs = prepare_sequence(training_data[0][0], word_to_ix)\n",
    "    tag_scores = model(char_inputs, inputs)\n",
    "    print(tag_scores)\n",
    "\n",
    "for epoch in range(300):  # again, normally you would NOT do 300 epochs, it is toy data\n",
    "    for sentence, tags in training_data:\n",
    "        # Step 1. Remember that Pytorch accumulates gradients.\n",
    "        # We need to clear them out before each instance\n",
    "        model.zero_grad()\n",
    "\n",
    "        # Step 2. Get our inputs ready for the network, that is, turn them into\n",
    "        # Tensors of word indices.\n",
    "        char_sentence_in = prepare_char_sequence(sentence)\n",
    "        sentence_in = prepare_sequence(sentence, word_to_ix)\n",
    "        targets = prepare_sequence(tags, tag_to_ix)\n",
    "\n",
    "        # Step 3. Run our forward pass.\n",
    "        tag_scores = model(char_sentence_in, sentence_in)\n",
    "\n",
    "        # Step 4. Compute the loss, gradients, and update the parameters by\n",
    "        #  calling optimizer.step()\n",
    "        loss = loss_function(tag_scores, targets)\n",
    "        loss.backward()\n",
    "        optimizer.step()\n",
    "\n",
    "# See what the scores are after training\n",
    "with torch.no_grad():\n",
    "    char_inputs = prepare_char_sequence(training_data[0][0])\n",
    "    inputs = prepare_sequence(training_data[0][0], word_to_ix)\n",
    "    tag_scores = model(char_inputs, inputs)\n",
    "\n",
    "    # The sentence is \"the dog ate the apple\".  i,j corresponds to score for tag j\n",
    "    # for word i. The predicted tag is the maximum scoring tag.\n",
    "    # Here, we can see the predicted sequence below is 0 1 2 0 1\n",
    "    # since 0 is index of the maximum value of row 1,\n",
    "    # 1 is the index of maximum value of row 2, etc.\n",
    "    # Which is DET NOUN VERB DET NOUN, the correct sequence!\n",
    "    print(tag_scores)\n",
    "t1 = datetime.datetime.now()\n",
    "print('Total Time:', t1-t0)"
   ]
  },
  {
   "cell_type": "code",
   "execution_count": 91,
   "metadata": {},
   "outputs": [],
   "source": [
    "import datetime"
   ]
  },
  {
   "cell_type": "code",
   "execution_count": 40,
   "metadata": {},
   "outputs": [
    {
     "data": {
      "text/plain": [
       "tensor([0, 1, 2, 0, 1])"
      ]
     },
     "execution_count": 40,
     "metadata": {},
     "output_type": "execute_result"
    }
   ],
   "source": [
    "#w[0]\n",
    "torch.tensor([[-0.1778, -3.0725, -2.1494],\n",
    "        [-2.7127, -0.0742, -5.2585],\n",
    "        [-1.7926, -3.1809, -0.2333],\n",
    "        [-0.1475, -3.3955, -2.2672],\n",
    "        [-3.9127, -0.0239, -5.6226]]).argmax(dim=1)"
   ]
  },
  {
   "cell_type": "code",
   "execution_count": 41,
   "metadata": {},
   "outputs": [
    {
     "data": {
      "text/plain": [
       "tensor([0, 1, 2, 0, 1])"
      ]
     },
     "execution_count": 41,
     "metadata": {},
     "output_type": "execute_result"
    }
   ],
   "source": [
    "#ilk, örnekteki, char_embedding eklenmemiş hali\n",
    "torch.tensor([[-0.0930, -2.8627, -3.4529], \n",
    "        [-2.7217, -0.1597, -2.5029],\n",
    "        [-2.6742, -3.9109, -0.0932],\n",
    "        [-0.1738, -3.2647, -2.1095],\n",
    "        [-4.5002, -0.0148, -5.6273]]).argmax(dim=1)"
   ]
  },
  {
   "cell_type": "code",
   "execution_count": 45,
   "metadata": {},
   "outputs": [
    {
     "data": {
      "text/plain": [
       "tensor([0, 1, 2, 0, 1])"
      ]
     },
     "execution_count": 45,
     "metadata": {},
     "output_type": "execute_result"
    }
   ],
   "source": [
    "#w[1]\n",
    "torch.tensor([[-0.0162, -5.4440, -4.4425],\n",
    "        [-5.5069, -0.0136, -4.6586],\n",
    "        [-4.1085, -4.2194, -0.0316],\n",
    "        [-0.0169, -4.4673, -5.2465],\n",
    "        [-5.9041, -0.0062, -5.6639]]).argmax(dim=1)"
   ]
  },
  {
   "cell_type": "code",
   "execution_count": 59,
   "metadata": {},
   "outputs": [],
   "source": [
    "sentence =       ['benim', 'adim', 'ne', '?']\n",
    "sentence =       [0      , 1     , 2   , 3  ]\n",
    "char_sentence =  [['b','e','n','i','m'],['a','d','i','m'],['n','e'],['?']]\n",
    "char_sentence =  [[0  ,1  ,2  ,3  ,4  ],[5  ,6  ,3  ,4  ],[2  ,1  ],[7]]"
   ]
  },
  {
   "cell_type": "code",
   "execution_count": 101,
   "metadata": {},
   "outputs": [],
   "source": [
    "def prepare_char_sequence(seq):\n",
    "    seq =  [[char_to_ix[c] for c in w]for w in seq]\n",
    "    lengths = torch.LongTensor(list(map(len, seq)))\n",
    "    seq_tensor = Variable(torch.zeros((len(seq), lengths.max()))).long()\n",
    "    # seq_tensor => [[0 0 0 0 0 0 0 0]\n",
    "    #                [0 0 0 0 0 0 0 0]\n",
    "    #                [0 0 0 0 0 0 0 0]]\n",
    "\n",
    "    for idx, (s, seqlen) in enumerate(zip(seq, lengths)):\n",
    "        seq_tensor[idx, :seqlen] = torch.LongTensor(s)\n",
    "    # seq_tensor => [[ 6  9  8  4  1 11 12 10]          # long_str\n",
    "    #                [12  5  8 14  0  0  0  0]          # tiny\n",
    "    #                [ 7  3  2  5 13  7  0  0]]         # medium\n",
    "    # seq_tensor.shape : (batch_size X max_seq_len) = (3 X 8)\n",
    "    lengths, perm_idx = lengths.sort(0, descending=True)\n",
    "    seq = seq_tensor[perm_idx]\n",
    "    # seq = seq.transpose(0, 1)\n",
    "    return seq, lengths"
   ]
  },
  {
   "cell_type": "code",
   "execution_count": 102,
   "metadata": {},
   "outputs": [],
   "source": [
    "class CharEmbLSTMTaggerPacked(nn.Module):\n",
    "\n",
    "    def __init__(self, embedding_dim, char_embedding_dim, hidden_dim, charset_size, vocab_size, tagset_size):\n",
    "        super(CharEmbLSTMTaggerPacked, self).__init__()\n",
    "        self.hidden_dim = hidden_dim\n",
    "\n",
    "        self.char_embeddings = nn.Embedding(charset_size, char_embedding_dim)\n",
    "        self.word_embeddings = nn.Embedding(vocab_size, embedding_dim)\n",
    "\n",
    "        # The LSTM takes word embeddings as inputs, and outputs hidden states\n",
    "        # with dimensionality hidden_dim.\n",
    "        self.lstm_char = nn.LSTM(char_embedding_dim, char_embedding_dim, batch_first=True)\n",
    "        self.lstm_word = nn.LSTM(embedding_dim + char_embedding_dim, hidden_dim, batch_first=True)\n",
    "\n",
    "        # The linear layer that maps from hidden state space to tag space\n",
    "        self.hidden2tag = nn.Linear(hidden_dim, tagset_size)\n",
    "\n",
    "    def forward(self, char_sentence, char_lengths, sentence):\n",
    "\n",
    "        char_embeds = self.char_embeddings(char_sentence)\n",
    "        packed = pack_padded_sequence(char_embeds, char_lengths, batch_first=True)\n",
    "        packed_out, (hidden, cell) = self.lstm_char(packed)\n",
    "\n",
    "        word_embeds = self.word_embeddings(sentence)\n",
    "        word_char_embeds = torch.cat((word_embeds, hidden.view(len(sentence), -1)), dim=1)\n",
    "\n",
    "        # word_char_embeds = torch.stack(word_char_embeds)\n",
    "        lstm_out, _ = self.lstm_word(word_char_embeds.view(len(sentence), 1, -1))\n",
    "\n",
    "        tag_space = self.hidden2tag(lstm_out.view(len(sentence), -1))\n",
    "        tag_scores = F.log_softmax(tag_space, dim=1)\n",
    "        return tag_scores\n"
   ]
  },
  {
   "cell_type": "code",
   "execution_count": 108,
   "metadata": {},
   "outputs": [
    {
     "name": "stdout",
     "output_type": "stream",
     "text": [
      "tensor([[-1.5065, -0.8503, -1.0468],\n",
      "        [-1.3096, -1.0353, -0.9810],\n",
      "        [-1.5137, -0.8434, -1.0509],\n",
      "        [-1.5595, -0.8359, -1.0321],\n",
      "        [-1.4699, -0.9084, -1.0027]])\n",
      "tensor([[-0.0102, -4.8130, -6.2141],\n",
      "        [-4.9879, -0.0114, -5.3988],\n",
      "        [-5.3744, -3.9994, -0.0232],\n",
      "        [-0.0125, -4.6764, -5.7884],\n",
      "        [-5.7297, -0.0070, -5.6032]])\n",
      "Total Time: 0:00:03.186864\n"
     ]
    }
   ],
   "source": [
    "t0 = datetime.datetime.now()\n",
    "model = CharEmbLSTMTaggerPacked(EMBEDDING_DIM, CHAR_EMBEDDING_DIM, HIDDEN_DIM, len(char_to_ix), len(word_to_ix), \n",
    "                                len(tag_to_ix))\n",
    "loss_function = nn.NLLLoss()\n",
    "optimizer = optim.SGD(model.parameters(), lr=0.1)\n",
    "\n",
    "# See what the scores are before training\n",
    "# Note that element i,j of the output is the score for tag j for word i.\n",
    "# Here we don't need to train, so the code is wrapped in torch.no_grad()\n",
    "with torch.no_grad():\n",
    "    char_inputs, char_lengths = prepare_char_sequence(training_data[0][0])\n",
    "    sentence_in = prepare_sequence(training_data[0][0], word_to_ix)\n",
    "    tag_scores = model(char_inputs, char_lengths, sentence_in)\n",
    "    print(tag_scores)\n",
    "\n",
    "for epoch in range(500):  # again, normally you would NOT do 300 epochs, it is toy data\n",
    "    for sentence, tags in training_data:\n",
    "        # Step 1. Remember that Pytorch accumulates gradients.\n",
    "        # We need to clear them out before each instance\n",
    "        model.zero_grad()\n",
    "\n",
    "        # Step 2. Get our inputs ready for the network, that is, turn them into\n",
    "        # Tensors of word indices.\n",
    "        char_sentence_in, char_lengths = prepare_char_sequence(sentence)\n",
    "        sentence_in = prepare_sequence(sentence, word_to_ix)\n",
    "        targets = prepare_sequence(tags, tag_to_ix)\n",
    "\n",
    "        # Step 3. Run our forward pass.\n",
    "        tag_scores = model(char_sentence_in, char_lengths, sentence_in)\n",
    "\n",
    "        # Step 4. Compute the loss, gradients, and update the parameters by\n",
    "        #  calling optimizer.step()\n",
    "        loss = loss_function(tag_scores, targets)\n",
    "        loss.backward()\n",
    "        optimizer.step()\n",
    "\n",
    "# See what the scores are after training\n",
    "with torch.no_grad():\n",
    "    char_inputs, char_lengths = prepare_char_sequence(training_data[0][0])\n",
    "    sentence_in = prepare_sequence(training_data[0][0], word_to_ix)\n",
    "    tag_scores = model(char_inputs, char_lengths, sentence_in)\n",
    "\n",
    "   # The sentence is \"the dog ate the apple\".  i,j corresponds to score for tag j\n",
    "    # for word i. The predicted tag is the maximum scoring tag.\n",
    "    # Here, we can see the predicted sequence below is 0 1 2 0 1\n",
    "    # since 0 is index of the maximum value of row 1,\n",
    "    # 1 is the index of maximum value of row 2, etc.\n",
    "    # Which is DET NOUN VERB DET NOUN, the correct sequence!\n",
    "    print(tag_scores)\n",
    "t1 = datetime.datetime.now()\n",
    "print('Total Time:', t1-t0)"
   ]
  },
  {
   "cell_type": "code",
   "execution_count": 106,
   "metadata": {},
   "outputs": [],
   "source": []
  },
  {
   "cell_type": "code",
   "execution_count": null,
   "metadata": {},
   "outputs": [],
   "source": [
    "enforce_sorted=True"
   ]
  },
  {
   "cell_type": "code",
   "execution_count": 82,
   "metadata": {},
   "outputs": [
    {
     "ename": "TypeError",
     "evalue": "pack_padded_sequence() got an unexpected keyword argument 'enforce_sorted'",
     "output_type": "error",
     "traceback": [
      "\u001b[0;31m---------------------------------------------------------------------------\u001b[0m",
      "\u001b[0;31mTypeError\u001b[0m                                 Traceback (most recent call last)",
      "\u001b[0;32m<ipython-input-82-d54cb2b1b445>\u001b[0m in \u001b[0;36m<module>\u001b[0;34m\u001b[0m\n\u001b[0;32m----> 1\u001b[0;31m \u001b[0mtorch\u001b[0m\u001b[0;34m.\u001b[0m\u001b[0mnn\u001b[0m\u001b[0;34m.\u001b[0m\u001b[0mutils\u001b[0m\u001b[0;34m.\u001b[0m\u001b[0mrnn\u001b[0m\u001b[0;34m.\u001b[0m\u001b[0mpack_padded_sequence\u001b[0m\u001b[0;34m(\u001b[0m\u001b[0minp\u001b[0m\u001b[0;34m,\u001b[0m\u001b[0;34m[\u001b[0m\u001b[0;36m5\u001b[0m\u001b[0;34m,\u001b[0m\u001b[0;36m4\u001b[0m\u001b[0;34m,\u001b[0m\u001b[0;36m221\u001b[0m\u001b[0;34m]\u001b[0m\u001b[0;34m,\u001b[0m \u001b[0mbatch_first\u001b[0m\u001b[0;34m=\u001b[0m\u001b[0;32mTrue\u001b[0m\u001b[0;34m,\u001b[0m\u001b[0menforce_sorted\u001b[0m\u001b[0;34m=\u001b[0m\u001b[0;32mTrue\u001b[0m\u001b[0;34m)\u001b[0m\u001b[0;34m\u001b[0m\u001b[0;34m\u001b[0m\u001b[0m\n\u001b[0m",
      "\u001b[0;31mTypeError\u001b[0m: pack_padded_sequence() got an unexpected keyword argument 'enforce_sorted'"
     ]
    }
   ],
   "source": [
    "torch.nn.utils.rnn.pack_padded_sequence(inp,[5,4,221], batch_first=True,enforce_sorted=True)"
   ]
  },
  {
   "cell_type": "code",
   "execution_count": null,
   "metadata": {},
   "outputs": [],
   "source": [
    "class SequenceWise(nn.Module):\n",
    "    def __init__(self, module):\n",
    "        \"\"\"\n",
    "        Collapses input of dim T*N*H to (T*N)*H, and applies to a module.\n",
    "        Allows handling of variable sequence lengths and minibatch sizes.\n",
    "        :param module: Module to apply input to.\n",
    "        \"\"\"\n",
    "        super(SequenceWise, self).__init__()\n",
    "        self.module = module\n",
    "\n",
    "    def forward(self, x):\n",
    "        t, n = x.size(0), x.size(1)\n",
    "        x = x.view(t * n, -1)\n",
    "        x = self.module(x)\n",
    "        x = x.view(t, n, -1)\n",
    "        return x\n",
    "\n",
    "    def __repr__(self):\n",
    "        tmpstr = self.__class__.__name__ + ' (\\n'\n",
    "        tmpstr += self.module.__repr__()\n",
    "        tmpstr += ')'\n",
    "        return tmpstr\n",
    "    \n",
    "class TimeDistributed(nn.Module):\n",
    "    def __init__(self, module):\n",
    "        super(TimeDistributed, self).__init__()\n",
    "        self.module = module\n",
    "\n",
    "    def forward(self, x):\n",
    "        if len(x.size()) <= 2:\n",
    "            return self.module(x)\n",
    "        t, n = x.size(0), x.size(1) \n",
    "        # merge batch and seq dimensions\n",
    "        x_reshape = x.contiguous().view(t * n, x.size(2))\n",
    "        y = self.module(x_reshape)\n",
    "        # We have to reshape Y\n",
    "        y = y.contiguous().view(t, n, y.size()[1])\n",
    "        return y\n",
    "    \n",
    "# you can do TimeDistributed in pytorch with a regular for loop.\n",
    "\n",
    "\n",
    "# packing might speed up; but no ggod for now cause fucks up the out and hidden... or the current shit is fucked\n",
    "packed = pack_padded_sequence(x, lengths, batch_first=True)\n",
    "\n",
    "# Forward propagate RNN\n",
    "out, _ = self.rnn(packed)\n",
    "\n",
    "# Reshape *final* output to (batch_size, hidden_size)\n",
    "padded = pad_packed_sequence(out, batch_first=True)"
   ]
  },
  {
   "cell_type": "markdown",
   "metadata": {},
   "source": [
    "``Right, you don’t have to use pack_padded_sequence. Padding is fine, but it is different from using pack_padded_seq. For packed input, RNN will not perform calculation on pad elements.\n",
    "\n",
    "For example, you have a padded mini batch (size 2), zero is padding.\n",
    "\n",
    "1 1 1\n",
    "\n",
    "1 0 0\n",
    "\n",
    "The output will be 3 (seq length) x 2 (batch size). However, packed input will result in a packed output contains (3 x 1 and 1 x 1). If you feed pack into RNN, it will not calculate output for your pad element. Moreover, hidden will be the hidden after the last valid input instead of hidden after the last zero padding (if you feed pad into rnn, hidden will be in the case).\n",
    "\n",
    "RNN actually does not distinguish pad and valid elements, and it performs the same calculation on them. You may need to clean the output (e.g., mask output) to get the result you want. Dynamic RNN (feed with packed input) does not have this problem.\n",
    "``\n",
    "\n",
    "https://discuss.pytorch.org/t/understanding-pack-padded-sequence-and-pad-packed-sequence/4099/4"
   ]
  },
  {
   "cell_type": "markdown",
   "metadata": {},
   "source": [
    "https://towardsdatascience.com/taming-lstms-variable-sized-mini-batches-and-why-pytorch-is-good-for-your-health-61d35642972e\n",
    "\n",
    "https://gist.github.com/HarshTrivedi/f4e7293e941b17d19058f6fb90ab0fec\n",
    "\n",
    "https://stackoverflow.com/questions/51030782/why-do-we-pack-the-sequences-in-pytorch\n",
    "\n",
    "I have stumbled upon this problem too and below is what I figured out.\n",
    "\n",
    "When training RNN (LSTM or GRU or vanilla-RNN), it is difficult to batch the variable length sequences. For ex: if length of sequences in a size 8 batch is [4,6,8,5,4,3,7,8], you will pad all the sequences and that will results in 8 sequences of length 8. You would end up doing 64 computation (8x8), but you needed to do only 45 computations. Moreover, if you wanted to do something fancy like using a bidirectional-RNN it would be harder to do batch computations just by padding and you might end up doing more computations than required.\n",
    "\n",
    "Instead, pytorch allows us to pack the sequence, internally packed sequence is a tuple of two lists. One contains the elements of sequences. Elements are interleaved by time steps (see example below) and other contains the size of each sequence the batch size at each step. This is helpful in recovering the actual sequences as well as telling RNN what is the batch size at each time step. This has been pointed by @Aerin. This can be passed to RNN and it will internally optimize the computations.\n",
    "\n",
    "I might have been unclear at some points, so let me know and I can add more explanations. "
   ]
  }
 ],
 "metadata": {
  "kernelspec": {
   "display_name": "Python 3",
   "language": "python",
   "name": "python3"
  },
  "language_info": {
   "codemirror_mode": {
    "name": "ipython",
    "version": 3
   },
   "file_extension": ".py",
   "mimetype": "text/x-python",
   "name": "python",
   "nbconvert_exporter": "python",
   "pygments_lexer": "ipython3",
   "version": "3.7.3"
  }
 },
 "nbformat": 4,
 "nbformat_minor": 1
}
